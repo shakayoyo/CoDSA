{
 "cells": [
  {
   "cell_type": "code",
   "execution_count": 1,
   "id": "bb4421de",
   "metadata": {},
   "outputs": [
    {
     "name": "stderr",
     "output_type": "stream",
     "text": [
      "/common/software/install/migrated/anaconda/python3-2020.07-mamba/lib/python3.8/site-packages/setuptools/distutils_patch.py:25: UserWarning: Distutils was imported before Setuptools. This usage is discouraged and may exhibit undesirable behaviors or errors. Please use Setuptools' objects directly or at least import Setuptools first.\n",
      "  warnings.warn(\n"
     ]
    }
   ],
   "source": [
    "from ae_detector import *\n",
    "import warnings\n",
    "warnings.filterwarnings('ignore')"
   ]
  },
  {
   "cell_type": "markdown",
   "id": "80cf8235",
   "metadata": {},
   "source": [
    "## Anomaly detection with CoDSA"
   ]
  },
  {
   "cell_type": "code",
   "execution_count": 2,
   "id": "5f429e21",
   "metadata": {},
   "outputs": [],
   "source": [
    "# Load and preprocess datasets\n",
    "# MNIST dataset\n",
    "\n",
    "transform = transforms.Compose([\n",
    "    transforms.Resize((28, 28)),\n",
    "    transforms.ToTensor(),\n",
    "])\n",
    "\n",
    "mnist_data = datasets.MNIST(root='data', train=True, download=True, transform=transform)\n",
    "\n",
    "# USPS dataset\n",
    "usps_data = datasets.USPS(root='data', train=True, download=True, transform=transform)"
   ]
  },
  {
   "cell_type": "code",
   "execution_count": 4,
   "id": "56295ce4",
   "metadata": {},
   "outputs": [],
   "source": [
    "def extract_digits(dataset, digit):\n",
    "    imgs = []\n",
    "    for img, label in dataset:\n",
    "        if label == digit:\n",
    "            imgs.append(img.numpy())\n",
    "    return np.array(imgs)\n",
    "\n",
    "# Extract digit '3' (normal) and '5' (anomaly)\n",
    "mnist_3 = extract_digits(mnist_data, 3)\n",
    "mnist_5 = extract_digits(mnist_data, 5)\n",
    "usps_3 = extract_digits(usps_data, 3)\n",
    "usps_5 = extract_digits(usps_data, 5)"
   ]
  },
  {
   "cell_type": "code",
   "execution_count": null,
   "id": "9cca749d",
   "metadata": {},
   "outputs": [],
   "source": [
    "#!python train_sample.py #train and sample images if the synthetic data are not ready"
   ]
  },
  {
   "cell_type": "code",
   "execution_count": 19,
   "id": "88622373",
   "metadata": {},
   "outputs": [
    {
     "name": "stdout",
     "output_type": "stream",
     "text": [
      "Array shape: (10000, 28, 28)\n",
      "Array shape: (15000, 28, 28)\n"
     ]
    }
   ],
   "source": [
    "# Path to your generated images directory\n",
    "image_dir = 'generated_images/mnist'\n",
    "\n",
    "# Get sorted list of image filenames\n",
    "image_files = sorted([\n",
    "    os.path.join(image_dir, fname)\n",
    "    for fname in os.listdir(image_dir)\n",
    "    if fname.endswith('.png')\n",
    "])\n",
    "\n",
    "# Read images into list and convert to NumPy array\n",
    "images_list = []\n",
    "for img_file in image_files:\n",
    "    with Image.open(img_file).convert('L') as img:  # 'L' mode for grayscale\n",
    "        img_array = np.array(img)\n",
    "        images_list.append(img_array)\n",
    "\n",
    "# Convert list to single NumPy array (N, Height, Width)\n",
    "mnist_g = np.stack(images_list, axis=0)\n",
    "\n",
    "print('Array shape:', mnist_g.shape)\n",
    "\n",
    "# Path to your generated images directory\n",
    "image_dir = 'generated_images/usps'\n",
    "\n",
    "# Get sorted list of image filenames\n",
    "image_files = sorted([\n",
    "    os.path.join(image_dir, fname)\n",
    "    for fname in os.listdir(image_dir)\n",
    "    if fname.endswith('.png')\n",
    "])\n",
    "\n",
    "# Read images into list and convert to NumPy array\n",
    "images_list = []\n",
    "for img_file in image_files:\n",
    "    with Image.open(img_file).convert('L') as img:  # 'L' mode for grayscale\n",
    "        img_array = np.array(img)\n",
    "        images_list.append(img_array)\n",
    "\n",
    "# Convert list to single NumPy array (N, Height, Width)\n",
    "usps_g = np.stack(images_list, axis=0)\n",
    "\n",
    "print('Array shape:', usps_g.shape)"
   ]
  },
  {
   "cell_type": "code",
   "execution_count": 92,
   "id": "ad48a0e3",
   "metadata": {},
   "outputs": [
    {
     "name": "stdout",
     "output_type": "stream",
     "text": [
      "Epoch 1/20  Loss: 0.219872\n",
      "Epoch 2/20  Loss: 0.210679\n",
      "Epoch 3/20  Loss: 0.182353\n",
      "Epoch 4/20  Loss: 0.129671\n",
      "Epoch 5/20  Loss: 0.086223\n",
      "Epoch 6/20  Loss: 0.069565\n",
      "Epoch 7/20  Loss: 0.064560\n",
      "Epoch 8/20  Loss: 0.062426\n",
      "Epoch 9/20  Loss: 0.061118\n",
      "Epoch 10/20  Loss: 0.060215\n",
      "Epoch 11/20  Loss: 0.059359\n",
      "Epoch 12/20  Loss: 0.058344\n",
      "Epoch 13/20  Loss: 0.057148\n",
      "Epoch 14/20  Loss: 0.055836\n",
      "Epoch 15/20  Loss: 0.054536\n",
      "Epoch 16/20  Loss: 0.053227\n",
      "Epoch 17/20  Loss: 0.051900\n",
      "Epoch 18/20  Loss: 0.050632\n",
      "Epoch 19/20  Loss: 0.049478\n",
      "Epoch 20/20  Loss: 0.048507\n"
     ]
    },
    {
     "name": "stderr",
     "output_type": "stream",
     "text": [
      "/users/1/tianx/DA/CoDSA/Real examples/Anomaly detection/ae_detector.py:85: UserWarning: To copy construct from a tensor, it is recommended to use sourceTensor.clone().detach() or sourceTensor.clone().detach().requires_grad_(True), rather than torch.tensor(sourceTensor).\n",
      "  X = torch.tensor(X_train, dtype=torch.float32, device=self.device)\n"
     ]
    },
    {
     "name": "stdout",
     "output_type": "stream",
     "text": [
      "Epoch 1/20  Loss: 0.165975\n",
      "Epoch 2/20  Loss: 0.126275\n",
      "Epoch 3/20  Loss: 0.077699\n",
      "Epoch 4/20  Loss: 0.055132\n",
      "Epoch 5/20  Loss: 0.047801\n",
      "Epoch 6/20  Loss: 0.045770\n",
      "Epoch 7/20  Loss: 0.044782\n",
      "Epoch 8/20  Loss: 0.044074\n",
      "Epoch 9/20  Loss: 0.043364\n",
      "Epoch 10/20  Loss: 0.042415\n",
      "Epoch 11/20  Loss: 0.041169\n",
      "Epoch 12/20  Loss: 0.039692\n",
      "Epoch 13/20  Loss: 0.038262\n",
      "Epoch 14/20  Loss: 0.036907\n",
      "Epoch 15/20  Loss: 0.035445\n",
      "Epoch 16/20  Loss: 0.033882\n",
      "Epoch 17/20  Loss: 0.032450\n",
      "Epoch 18/20  Loss: 0.031303\n",
      "Epoch 19/20  Loss: 0.030311\n",
      "Epoch 20/20  Loss: 0.029395\n",
      "Epoch 1/20  Loss: 0.152035\n"
     ]
    },
    {
     "name": "stderr",
     "output_type": "stream",
     "text": [
      "/users/1/tianx/DA/CoDSA/Real examples/Anomaly detection/ae_detector.py:85: UserWarning: To copy construct from a tensor, it is recommended to use sourceTensor.clone().detach() or sourceTensor.clone().detach().requires_grad_(True), rather than torch.tensor(sourceTensor).\n",
      "  X = torch.tensor(X_train, dtype=torch.float32, device=self.device)\n"
     ]
    },
    {
     "name": "stdout",
     "output_type": "stream",
     "text": [
      "Epoch 2/20  Loss: 0.085764\n",
      "Epoch 3/20  Loss: 0.051171\n",
      "Epoch 4/20  Loss: 0.043597\n",
      "Epoch 5/20  Loss: 0.041985\n",
      "Epoch 6/20  Loss: 0.041073\n",
      "Epoch 7/20  Loss: 0.039897\n",
      "Epoch 8/20  Loss: 0.038146\n",
      "Epoch 9/20  Loss: 0.036049\n",
      "Epoch 10/20  Loss: 0.033781\n",
      "Epoch 11/20  Loss: 0.031618\n",
      "Epoch 12/20  Loss: 0.030042\n",
      "Epoch 13/20  Loss: 0.028685\n",
      "Epoch 14/20  Loss: 0.027350\n",
      "Epoch 15/20  Loss: 0.026048\n",
      "Epoch 16/20  Loss: 0.024927\n",
      "Epoch 17/20  Loss: 0.023979\n",
      "Epoch 18/20  Loss: 0.023105\n",
      "Epoch 19/20  Loss: 0.022249\n",
      "Epoch 20/20  Loss: 0.021442\n",
      "Epoch 1/20  Loss: 0.219898\n",
      "Epoch 2/20  Loss: 0.210673\n",
      "Epoch 3/20  Loss: 0.182158\n",
      "Epoch 4/20  Loss: 0.129062\n",
      "Epoch 5/20  Loss: 0.085638\n",
      "Epoch 6/20  Loss: 0.069326\n",
      "Epoch 7/20  Loss: 0.064521\n",
      "Epoch 8/20  Loss: 0.062470\n",
      "Epoch 9/20  Loss: 0.061219\n",
      "Epoch 10/20  Loss: 0.060378\n",
      "Epoch 11/20  Loss: 0.059535\n",
      "Epoch 12/20  Loss: 0.058536\n",
      "Epoch 13/20  Loss: 0.057363\n",
      "Epoch 14/20  Loss: 0.056142\n",
      "Epoch 15/20  Loss: 0.054944\n",
      "Epoch 16/20  Loss: 0.053722\n",
      "Epoch 17/20  Loss: 0.052383\n",
      "Epoch 18/20  Loss: 0.050988\n",
      "Epoch 19/20  Loss: 0.049636\n",
      "Epoch 20/20  Loss: 0.048507\n",
      "Epoch 1/20  Loss: 0.165928\n"
     ]
    },
    {
     "name": "stderr",
     "output_type": "stream",
     "text": [
      "/users/1/tianx/DA/CoDSA/Real examples/Anomaly detection/ae_detector.py:85: UserWarning: To copy construct from a tensor, it is recommended to use sourceTensor.clone().detach() or sourceTensor.clone().detach().requires_grad_(True), rather than torch.tensor(sourceTensor).\n",
      "  X = torch.tensor(X_train, dtype=torch.float32, device=self.device)\n"
     ]
    },
    {
     "name": "stdout",
     "output_type": "stream",
     "text": [
      "Epoch 2/20  Loss: 0.125941\n",
      "Epoch 3/20  Loss: 0.077553\n",
      "Epoch 4/20  Loss: 0.055313\n",
      "Epoch 5/20  Loss: 0.047899\n",
      "Epoch 6/20  Loss: 0.045763\n",
      "Epoch 7/20  Loss: 0.044757\n",
      "Epoch 8/20  Loss: 0.044045\n",
      "Epoch 9/20  Loss: 0.043336\n",
      "Epoch 10/20  Loss: 0.042413\n",
      "Epoch 11/20  Loss: 0.041185\n",
      "Epoch 12/20  Loss: 0.039774\n",
      "Epoch 13/20  Loss: 0.038438\n",
      "Epoch 14/20  Loss: 0.037169\n",
      "Epoch 15/20  Loss: 0.035723\n",
      "Epoch 16/20  Loss: 0.034201\n",
      "Epoch 17/20  Loss: 0.032858\n",
      "Epoch 18/20  Loss: 0.031712\n",
      "Epoch 19/20  Loss: 0.030661\n",
      "Epoch 20/20  Loss: 0.029637\n",
      "Epoch 1/20  Loss: 0.151980\n",
      "Epoch 2/20  Loss: 0.085640\n"
     ]
    },
    {
     "name": "stderr",
     "output_type": "stream",
     "text": [
      "/users/1/tianx/DA/CoDSA/Real examples/Anomaly detection/ae_detector.py:85: UserWarning: To copy construct from a tensor, it is recommended to use sourceTensor.clone().detach() or sourceTensor.clone().detach().requires_grad_(True), rather than torch.tensor(sourceTensor).\n",
      "  X = torch.tensor(X_train, dtype=torch.float32, device=self.device)\n"
     ]
    },
    {
     "name": "stdout",
     "output_type": "stream",
     "text": [
      "Epoch 3/20  Loss: 0.051120\n",
      "Epoch 4/20  Loss: 0.043561\n",
      "Epoch 5/20  Loss: 0.042001\n",
      "Epoch 6/20  Loss: 0.041108\n",
      "Epoch 7/20  Loss: 0.040008\n",
      "Epoch 8/20  Loss: 0.038266\n",
      "Epoch 9/20  Loss: 0.036195\n",
      "Epoch 10/20  Loss: 0.034008\n",
      "Epoch 11/20  Loss: 0.031826\n",
      "Epoch 12/20  Loss: 0.030231\n",
      "Epoch 13/20  Loss: 0.028856\n",
      "Epoch 14/20  Loss: 0.027470\n",
      "Epoch 15/20  Loss: 0.026071\n",
      "Epoch 16/20  Loss: 0.024890\n",
      "Epoch 17/20  Loss: 0.023947\n",
      "Epoch 18/20  Loss: 0.023156\n",
      "Epoch 19/20  Loss: 0.022422\n",
      "Epoch 20/20  Loss: 0.021712\n",
      "Epoch 1/20  Loss: 0.219895\n",
      "Epoch 2/20  Loss: 0.210678\n",
      "Epoch 3/20  Loss: 0.182296\n",
      "Epoch 4/20  Loss: 0.129467\n",
      "Epoch 5/20  Loss: 0.085704\n",
      "Epoch 6/20  Loss: 0.069105\n",
      "Epoch 7/20  Loss: 0.064207\n",
      "Epoch 8/20  Loss: 0.062113\n",
      "Epoch 9/20  Loss: 0.060862\n",
      "Epoch 10/20  Loss: 0.059996\n",
      "Epoch 11/20  Loss: 0.059146\n",
      "Epoch 12/20  Loss: 0.058142\n",
      "Epoch 13/20  Loss: 0.056893\n",
      "Epoch 14/20  Loss: 0.055561\n",
      "Epoch 15/20  Loss: 0.054241\n",
      "Epoch 16/20  Loss: 0.052898\n",
      "Epoch 17/20  Loss: 0.051524\n",
      "Epoch 18/20  Loss: 0.050213\n",
      "Epoch 19/20  Loss: 0.049108\n",
      "Epoch 20/20  Loss: 0.048218\n"
     ]
    },
    {
     "name": "stderr",
     "output_type": "stream",
     "text": [
      "/users/1/tianx/DA/CoDSA/Real examples/Anomaly detection/ae_detector.py:85: UserWarning: To copy construct from a tensor, it is recommended to use sourceTensor.clone().detach() or sourceTensor.clone().detach().requires_grad_(True), rather than torch.tensor(sourceTensor).\n",
      "  X = torch.tensor(X_train, dtype=torch.float32, device=self.device)\n"
     ]
    },
    {
     "name": "stdout",
     "output_type": "stream",
     "text": [
      "Epoch 1/20  Loss: 0.165965\n",
      "Epoch 2/20  Loss: 0.126175\n",
      "Epoch 3/20  Loss: 0.077523\n",
      "Epoch 4/20  Loss: 0.055069\n",
      "Epoch 5/20  Loss: 0.047710\n",
      "Epoch 6/20  Loss: 0.045671\n",
      "Epoch 7/20  Loss: 0.044699\n",
      "Epoch 8/20  Loss: 0.044016\n",
      "Epoch 9/20  Loss: 0.043341\n",
      "Epoch 10/20  Loss: 0.042476\n",
      "Epoch 11/20  Loss: 0.041303\n",
      "Epoch 12/20  Loss: 0.039884\n",
      "Epoch 13/20  Loss: 0.038445\n",
      "Epoch 14/20  Loss: 0.037091\n",
      "Epoch 15/20  Loss: 0.035628\n",
      "Epoch 16/20  Loss: 0.033962\n",
      "Epoch 17/20  Loss: 0.032329\n",
      "Epoch 18/20  Loss: 0.030937\n",
      "Epoch 19/20  Loss: 0.029760\n",
      "Epoch 20/20  Loss: 0.028723\n",
      "Epoch 1/20  Loss: 0.152033\n"
     ]
    },
    {
     "name": "stderr",
     "output_type": "stream",
     "text": [
      "/users/1/tianx/DA/CoDSA/Real examples/Anomaly detection/ae_detector.py:85: UserWarning: To copy construct from a tensor, it is recommended to use sourceTensor.clone().detach() or sourceTensor.clone().detach().requires_grad_(True), rather than torch.tensor(sourceTensor).\n",
      "  X = torch.tensor(X_train, dtype=torch.float32, device=self.device)\n"
     ]
    },
    {
     "name": "stdout",
     "output_type": "stream",
     "text": [
      "Epoch 2/20  Loss: 0.085742\n",
      "Epoch 3/20  Loss: 0.051157\n",
      "Epoch 4/20  Loss: 0.043619\n",
      "Epoch 5/20  Loss: 0.042002\n",
      "Epoch 6/20  Loss: 0.041029\n",
      "Epoch 7/20  Loss: 0.039745\n",
      "Epoch 8/20  Loss: 0.037864\n",
      "Epoch 9/20  Loss: 0.035673\n",
      "Epoch 10/20  Loss: 0.033321\n",
      "Epoch 11/20  Loss: 0.031318\n",
      "Epoch 12/20  Loss: 0.029939\n",
      "Epoch 13/20  Loss: 0.028743\n",
      "Epoch 14/20  Loss: 0.027499\n",
      "Epoch 15/20  Loss: 0.026258\n",
      "Epoch 16/20  Loss: 0.025113\n",
      "Epoch 17/20  Loss: 0.024129\n",
      "Epoch 18/20  Loss: 0.023288\n",
      "Epoch 19/20  Loss: 0.022503\n",
      "Epoch 20/20  Loss: 0.021768\n",
      "Epoch 1/20  Loss: 0.219884\n",
      "Epoch 2/20  Loss: 0.210690\n",
      "Epoch 3/20  Loss: 0.182226\n",
      "Epoch 4/20  Loss: 0.129351\n",
      "Epoch 5/20  Loss: 0.085757\n",
      "Epoch 6/20  Loss: 0.069164\n",
      "Epoch 7/20  Loss: 0.064254\n",
      "Epoch 8/20  Loss: 0.062151\n",
      "Epoch 9/20  Loss: 0.060878\n",
      "Epoch 10/20  Loss: 0.059989\n",
      "Epoch 11/20  Loss: 0.059089\n",
      "Epoch 12/20  Loss: 0.057989\n",
      "Epoch 13/20  Loss: 0.056699\n",
      "Epoch 14/20  Loss: 0.055395\n",
      "Epoch 15/20  Loss: 0.054102\n",
      "Epoch 16/20  Loss: 0.052748\n",
      "Epoch 17/20  Loss: 0.051361\n",
      "Epoch 18/20  Loss: 0.050082\n",
      "Epoch 19/20  Loss: 0.049013\n",
      "Epoch 20/20  Loss: 0.048147\n",
      "Epoch 1/20  Loss: 0.165926\n"
     ]
    },
    {
     "name": "stderr",
     "output_type": "stream",
     "text": [
      "/users/1/tianx/DA/CoDSA/Real examples/Anomaly detection/ae_detector.py:85: UserWarning: To copy construct from a tensor, it is recommended to use sourceTensor.clone().detach() or sourceTensor.clone().detach().requires_grad_(True), rather than torch.tensor(sourceTensor).\n",
      "  X = torch.tensor(X_train, dtype=torch.float32, device=self.device)\n"
     ]
    },
    {
     "name": "stdout",
     "output_type": "stream",
     "text": [
      "Epoch 2/20  Loss: 0.126014\n",
      "Epoch 3/20  Loss: 0.077501\n",
      "Epoch 4/20  Loss: 0.055155\n",
      "Epoch 5/20  Loss: 0.047768\n",
      "Epoch 6/20  Loss: 0.045673\n",
      "Epoch 7/20  Loss: 0.044716\n",
      "Epoch 8/20  Loss: 0.044056\n",
      "Epoch 9/20  Loss: 0.043392\n",
      "Epoch 10/20  Loss: 0.042543\n",
      "Epoch 11/20  Loss: 0.041402\n",
      "Epoch 12/20  Loss: 0.040017\n",
      "Epoch 13/20  Loss: 0.038626\n",
      "Epoch 14/20  Loss: 0.037348\n",
      "Epoch 15/20  Loss: 0.035958\n",
      "Epoch 16/20  Loss: 0.034275\n",
      "Epoch 17/20  Loss: 0.032634\n",
      "Epoch 18/20  Loss: 0.031289\n",
      "Epoch 19/20  Loss: 0.030125\n",
      "Epoch 20/20  Loss: 0.029089\n",
      "Epoch 1/20  Loss: 0.151884\n",
      "Epoch 2/20  Loss: 0.085193\n"
     ]
    },
    {
     "name": "stderr",
     "output_type": "stream",
     "text": [
      "/users/1/tianx/DA/CoDSA/Real examples/Anomaly detection/ae_detector.py:85: UserWarning: To copy construct from a tensor, it is recommended to use sourceTensor.clone().detach() or sourceTensor.clone().detach().requires_grad_(True), rather than torch.tensor(sourceTensor).\n",
      "  X = torch.tensor(X_train, dtype=torch.float32, device=self.device)\n"
     ]
    },
    {
     "name": "stdout",
     "output_type": "stream",
     "text": [
      "Epoch 3/20  Loss: 0.050600\n",
      "Epoch 4/20  Loss: 0.043454\n",
      "Epoch 5/20  Loss: 0.041930\n",
      "Epoch 6/20  Loss: 0.041042\n",
      "Epoch 7/20  Loss: 0.039968\n",
      "Epoch 8/20  Loss: 0.038353\n",
      "Epoch 9/20  Loss: 0.036318\n",
      "Epoch 10/20  Loss: 0.034074\n",
      "Epoch 11/20  Loss: 0.031874\n",
      "Epoch 12/20  Loss: 0.030188\n",
      "Epoch 13/20  Loss: 0.028696\n",
      "Epoch 14/20  Loss: 0.027219\n",
      "Epoch 15/20  Loss: 0.025855\n",
      "Epoch 16/20  Loss: 0.024784\n",
      "Epoch 17/20  Loss: 0.023921\n",
      "Epoch 18/20  Loss: 0.023164\n",
      "Epoch 19/20  Loss: 0.022421\n",
      "Epoch 20/20  Loss: 0.021670\n",
      "Epoch 1/20  Loss: 0.219861\n",
      "Epoch 2/20  Loss: 0.210667\n",
      "Epoch 3/20  Loss: 0.182361\n",
      "Epoch 4/20  Loss: 0.129810\n",
      "Epoch 5/20  Loss: 0.086233\n",
      "Epoch 6/20  Loss: 0.069536\n",
      "Epoch 7/20  Loss: 0.064554\n",
      "Epoch 8/20  Loss: 0.062482\n",
      "Epoch 9/20  Loss: 0.061192\n",
      "Epoch 10/20  Loss: 0.060332\n",
      "Epoch 11/20  Loss: 0.059504\n",
      "Epoch 12/20  Loss: 0.058552\n",
      "Epoch 13/20  Loss: 0.057453\n",
      "Epoch 14/20  Loss: 0.056292\n",
      "Epoch 15/20  Loss: 0.055156\n",
      "Epoch 16/20  Loss: 0.054011\n",
      "Epoch 17/20  Loss: 0.052738\n",
      "Epoch 18/20  Loss: 0.051361\n",
      "Epoch 19/20  Loss: 0.050012\n",
      "Epoch 20/20  Loss: 0.048839\n"
     ]
    },
    {
     "name": "stderr",
     "output_type": "stream",
     "text": [
      "/users/1/tianx/DA/CoDSA/Real examples/Anomaly detection/ae_detector.py:85: UserWarning: To copy construct from a tensor, it is recommended to use sourceTensor.clone().detach() or sourceTensor.clone().detach().requires_grad_(True), rather than torch.tensor(sourceTensor).\n",
      "  X = torch.tensor(X_train, dtype=torch.float32, device=self.device)\n"
     ]
    },
    {
     "name": "stdout",
     "output_type": "stream",
     "text": [
      "Epoch 1/20  Loss: 0.165928\n",
      "Epoch 2/20  Loss: 0.126069\n",
      "Epoch 3/20  Loss: 0.077591\n",
      "Epoch 4/20  Loss: 0.055140\n",
      "Epoch 5/20  Loss: 0.047812\n",
      "Epoch 6/20  Loss: 0.045740\n",
      "Epoch 7/20  Loss: 0.044758\n",
      "Epoch 8/20  Loss: 0.044059\n",
      "Epoch 9/20  Loss: 0.043341\n",
      "Epoch 10/20  Loss: 0.042381\n",
      "Epoch 11/20  Loss: 0.041110\n",
      "Epoch 12/20  Loss: 0.039634\n",
      "Epoch 13/20  Loss: 0.038214\n",
      "Epoch 14/20  Loss: 0.036839\n",
      "Epoch 15/20  Loss: 0.035302\n",
      "Epoch 16/20  Loss: 0.033793\n",
      "Epoch 17/20  Loss: 0.032490\n",
      "Epoch 18/20  Loss: 0.031451\n",
      "Epoch 19/20  Loss: 0.030545\n",
      "Epoch 20/20  Loss: 0.029687\n",
      "Epoch 1/20  Loss: 0.151987\n"
     ]
    },
    {
     "name": "stderr",
     "output_type": "stream",
     "text": [
      "/users/1/tianx/DA/CoDSA/Real examples/Anomaly detection/ae_detector.py:85: UserWarning: To copy construct from a tensor, it is recommended to use sourceTensor.clone().detach() or sourceTensor.clone().detach().requires_grad_(True), rather than torch.tensor(sourceTensor).\n",
      "  X = torch.tensor(X_train, dtype=torch.float32, device=self.device)\n"
     ]
    },
    {
     "name": "stdout",
     "output_type": "stream",
     "text": [
      "Epoch 2/20  Loss: 0.085468\n",
      "Epoch 3/20  Loss: 0.050722\n",
      "Epoch 4/20  Loss: 0.043460\n",
      "Epoch 5/20  Loss: 0.041913\n",
      "Epoch 6/20  Loss: 0.040995\n",
      "Epoch 7/20  Loss: 0.039863\n",
      "Epoch 8/20  Loss: 0.038240\n",
      "Epoch 9/20  Loss: 0.036156\n",
      "Epoch 10/20  Loss: 0.033811\n",
      "Epoch 11/20  Loss: 0.031587\n",
      "Epoch 12/20  Loss: 0.029992\n",
      "Epoch 13/20  Loss: 0.028560\n",
      "Epoch 14/20  Loss: 0.027114\n",
      "Epoch 15/20  Loss: 0.025773\n",
      "Epoch 16/20  Loss: 0.024684\n",
      "Epoch 17/20  Loss: 0.023817\n",
      "Epoch 18/20  Loss: 0.023058\n",
      "Epoch 19/20  Loss: 0.022348\n",
      "Epoch 20/20  Loss: 0.021645\n",
      "Epoch 1/20  Loss: 0.219871\n",
      "Epoch 2/20  Loss: 0.210616\n",
      "Epoch 3/20  Loss: 0.182189\n",
      "Epoch 4/20  Loss: 0.129505\n",
      "Epoch 5/20  Loss: 0.085939\n",
      "Epoch 6/20  Loss: 0.069376\n",
      "Epoch 7/20  Loss: 0.064381\n",
      "Epoch 8/20  Loss: 0.062238\n",
      "Epoch 9/20  Loss: 0.060912\n",
      "Epoch 10/20  Loss: 0.060018\n",
      "Epoch 11/20  Loss: 0.059153\n",
      "Epoch 12/20  Loss: 0.058120\n",
      "Epoch 13/20  Loss: 0.056841\n",
      "Epoch 14/20  Loss: 0.055468\n",
      "Epoch 15/20  Loss: 0.054105\n",
      "Epoch 16/20  Loss: 0.052722\n",
      "Epoch 17/20  Loss: 0.051345\n",
      "Epoch 18/20  Loss: 0.050062\n",
      "Epoch 19/20  Loss: 0.048959\n",
      "Epoch 20/20  Loss: 0.048087\n",
      "Epoch 1/20  Loss: 0.165967\n"
     ]
    },
    {
     "name": "stderr",
     "output_type": "stream",
     "text": [
      "/users/1/tianx/DA/CoDSA/Real examples/Anomaly detection/ae_detector.py:85: UserWarning: To copy construct from a tensor, it is recommended to use sourceTensor.clone().detach() or sourceTensor.clone().detach().requires_grad_(True), rather than torch.tensor(sourceTensor).\n",
      "  X = torch.tensor(X_train, dtype=torch.float32, device=self.device)\n"
     ]
    },
    {
     "name": "stdout",
     "output_type": "stream",
     "text": [
      "Epoch 2/20  Loss: 0.126123\n",
      "Epoch 3/20  Loss: 0.077059\n",
      "Epoch 4/20  Loss: 0.054716\n",
      "Epoch 5/20  Loss: 0.047570\n",
      "Epoch 6/20  Loss: 0.045597\n",
      "Epoch 7/20  Loss: 0.044677\n",
      "Epoch 8/20  Loss: 0.044006\n",
      "Epoch 9/20  Loss: 0.043307\n",
      "Epoch 10/20  Loss: 0.042395\n",
      "Epoch 11/20  Loss: 0.041197\n",
      "Epoch 12/20  Loss: 0.039709\n",
      "Epoch 13/20  Loss: 0.038200\n",
      "Epoch 14/20  Loss: 0.036634\n",
      "Epoch 15/20  Loss: 0.034833\n",
      "Epoch 16/20  Loss: 0.033147\n",
      "Epoch 17/20  Loss: 0.031773\n",
      "Epoch 18/20  Loss: 0.030597\n",
      "Epoch 19/20  Loss: 0.029506\n",
      "Epoch 20/20  Loss: 0.028494\n",
      "Epoch 1/20  Loss: 0.152028\n",
      "Epoch 2/20  Loss: 0.085744\n"
     ]
    },
    {
     "name": "stderr",
     "output_type": "stream",
     "text": [
      "/users/1/tianx/DA/CoDSA/Real examples/Anomaly detection/ae_detector.py:85: UserWarning: To copy construct from a tensor, it is recommended to use sourceTensor.clone().detach() or sourceTensor.clone().detach().requires_grad_(True), rather than torch.tensor(sourceTensor).\n",
      "  X = torch.tensor(X_train, dtype=torch.float32, device=self.device)\n"
     ]
    },
    {
     "name": "stdout",
     "output_type": "stream",
     "text": [
      "Epoch 3/20  Loss: 0.051166\n",
      "Epoch 4/20  Loss: 0.043571\n",
      "Epoch 5/20  Loss: 0.041951\n",
      "Epoch 6/20  Loss: 0.040974\n",
      "Epoch 7/20  Loss: 0.039702\n",
      "Epoch 8/20  Loss: 0.037860\n",
      "Epoch 9/20  Loss: 0.035794\n",
      "Epoch 10/20  Loss: 0.033509\n",
      "Epoch 11/20  Loss: 0.031446\n",
      "Epoch 12/20  Loss: 0.030000\n",
      "Epoch 13/20  Loss: 0.028754\n",
      "Epoch 14/20  Loss: 0.027436\n",
      "Epoch 15/20  Loss: 0.026118\n",
      "Epoch 16/20  Loss: 0.024945\n",
      "Epoch 17/20  Loss: 0.023994\n",
      "Epoch 18/20  Loss: 0.023177\n",
      "Epoch 19/20  Loss: 0.022426\n",
      "Epoch 20/20  Loss: 0.021733\n",
      "Epoch 1/20  Loss: 0.219909\n",
      "Epoch 2/20  Loss: 0.210712\n",
      "Epoch 3/20  Loss: 0.182386\n",
      "Epoch 4/20  Loss: 0.129697\n",
      "Epoch 5/20  Loss: 0.086173\n",
      "Epoch 6/20  Loss: 0.069553\n",
      "Epoch 7/20  Loss: 0.064473\n",
      "Epoch 8/20  Loss: 0.062281\n",
      "Epoch 9/20  Loss: 0.060956\n",
      "Epoch 10/20  Loss: 0.060022\n",
      "Epoch 11/20  Loss: 0.059092\n",
      "Epoch 12/20  Loss: 0.058000\n",
      "Epoch 13/20  Loss: 0.056735\n",
      "Epoch 14/20  Loss: 0.055430\n",
      "Epoch 15/20  Loss: 0.054179\n",
      "Epoch 16/20  Loss: 0.052900\n",
      "Epoch 17/20  Loss: 0.051603\n",
      "Epoch 18/20  Loss: 0.050336\n",
      "Epoch 19/20  Loss: 0.049177\n",
      "Epoch 20/20  Loss: 0.048225\n"
     ]
    },
    {
     "name": "stderr",
     "output_type": "stream",
     "text": [
      "/users/1/tianx/DA/CoDSA/Real examples/Anomaly detection/ae_detector.py:85: UserWarning: To copy construct from a tensor, it is recommended to use sourceTensor.clone().detach() or sourceTensor.clone().detach().requires_grad_(True), rather than torch.tensor(sourceTensor).\n",
      "  X = torch.tensor(X_train, dtype=torch.float32, device=self.device)\n"
     ]
    },
    {
     "name": "stdout",
     "output_type": "stream",
     "text": [
      "Epoch 1/20  Loss: 0.165979\n",
      "Epoch 2/20  Loss: 0.126211\n",
      "Epoch 3/20  Loss: 0.077326\n",
      "Epoch 4/20  Loss: 0.054787\n",
      "Epoch 5/20  Loss: 0.047654\n",
      "Epoch 6/20  Loss: 0.045662\n",
      "Epoch 7/20  Loss: 0.044694\n",
      "Epoch 8/20  Loss: 0.044013\n",
      "Epoch 9/20  Loss: 0.043304\n",
      "Epoch 10/20  Loss: 0.042374\n",
      "Epoch 11/20  Loss: 0.041161\n",
      "Epoch 12/20  Loss: 0.039724\n",
      "Epoch 13/20  Loss: 0.038379\n",
      "Epoch 14/20  Loss: 0.037126\n",
      "Epoch 15/20  Loss: 0.035735\n",
      "Epoch 16/20  Loss: 0.034065\n",
      "Epoch 17/20  Loss: 0.032412\n",
      "Epoch 18/20  Loss: 0.031051\n",
      "Epoch 19/20  Loss: 0.029933\n",
      "Epoch 20/20  Loss: 0.028931\n",
      "Epoch 1/20  Loss: 0.151999\n"
     ]
    },
    {
     "name": "stderr",
     "output_type": "stream",
     "text": [
      "/users/1/tianx/DA/CoDSA/Real examples/Anomaly detection/ae_detector.py:85: UserWarning: To copy construct from a tensor, it is recommended to use sourceTensor.clone().detach() or sourceTensor.clone().detach().requires_grad_(True), rather than torch.tensor(sourceTensor).\n",
      "  X = torch.tensor(X_train, dtype=torch.float32, device=self.device)\n"
     ]
    },
    {
     "name": "stdout",
     "output_type": "stream",
     "text": [
      "Epoch 2/20  Loss: 0.085653\n",
      "Epoch 3/20  Loss: 0.051124\n",
      "Epoch 4/20  Loss: 0.043528\n",
      "Epoch 5/20  Loss: 0.041929\n",
      "Epoch 6/20  Loss: 0.040995\n",
      "Epoch 7/20  Loss: 0.039791\n",
      "Epoch 8/20  Loss: 0.038085\n",
      "Epoch 9/20  Loss: 0.036075\n",
      "Epoch 10/20  Loss: 0.033954\n",
      "Epoch 11/20  Loss: 0.031757\n",
      "Epoch 12/20  Loss: 0.030099\n",
      "Epoch 13/20  Loss: 0.028674\n",
      "Epoch 14/20  Loss: 0.027320\n",
      "Epoch 15/20  Loss: 0.025962\n",
      "Epoch 16/20  Loss: 0.024716\n",
      "Epoch 17/20  Loss: 0.023694\n",
      "Epoch 18/20  Loss: 0.022841\n",
      "Epoch 19/20  Loss: 0.022111\n",
      "Epoch 20/20  Loss: 0.021437\n",
      "Epoch 1/20  Loss: 0.219924\n",
      "Epoch 2/20  Loss: 0.210688\n",
      "Epoch 3/20  Loss: 0.182169\n",
      "Epoch 4/20  Loss: 0.129163\n",
      "Epoch 5/20  Loss: 0.085729\n",
      "Epoch 6/20  Loss: 0.069296\n",
      "Epoch 7/20  Loss: 0.064402\n",
      "Epoch 8/20  Loss: 0.062320\n",
      "Epoch 9/20  Loss: 0.060995\n",
      "Epoch 10/20  Loss: 0.060081\n",
      "Epoch 11/20  Loss: 0.059155\n",
      "Epoch 12/20  Loss: 0.058023\n",
      "Epoch 13/20  Loss: 0.056687\n",
      "Epoch 14/20  Loss: 0.055294\n",
      "Epoch 15/20  Loss: 0.053872\n",
      "Epoch 16/20  Loss: 0.052437\n",
      "Epoch 17/20  Loss: 0.050983\n",
      "Epoch 18/20  Loss: 0.049683\n",
      "Epoch 19/20  Loss: 0.048643\n",
      "Epoch 20/20  Loss: 0.047825\n",
      "Epoch 1/20  Loss: 0.165940\n"
     ]
    },
    {
     "name": "stderr",
     "output_type": "stream",
     "text": [
      "/users/1/tianx/DA/CoDSA/Real examples/Anomaly detection/ae_detector.py:85: UserWarning: To copy construct from a tensor, it is recommended to use sourceTensor.clone().detach() or sourceTensor.clone().detach().requires_grad_(True), rather than torch.tensor(sourceTensor).\n",
      "  X = torch.tensor(X_train, dtype=torch.float32, device=self.device)\n"
     ]
    },
    {
     "name": "stdout",
     "output_type": "stream",
     "text": [
      "Epoch 2/20  Loss: 0.125994\n",
      "Epoch 3/20  Loss: 0.077506\n",
      "Epoch 4/20  Loss: 0.055081\n",
      "Epoch 5/20  Loss: 0.047733\n",
      "Epoch 6/20  Loss: 0.045640\n",
      "Epoch 7/20  Loss: 0.044642\n",
      "Epoch 8/20  Loss: 0.043935\n",
      "Epoch 9/20  Loss: 0.043226\n",
      "Epoch 10/20  Loss: 0.042342\n",
      "Epoch 11/20  Loss: 0.041182\n",
      "Epoch 12/20  Loss: 0.039842\n",
      "Epoch 13/20  Loss: 0.038579\n",
      "Epoch 14/20  Loss: 0.037431\n",
      "Epoch 15/20  Loss: 0.036187\n",
      "Epoch 16/20  Loss: 0.034747\n",
      "Epoch 17/20  Loss: 0.033250\n",
      "Epoch 18/20  Loss: 0.031948\n",
      "Epoch 19/20  Loss: 0.030768\n",
      "Epoch 20/20  Loss: 0.029675\n",
      "Epoch 1/20  Loss: 0.152030\n",
      "Epoch 2/20  Loss: 0.085539\n"
     ]
    },
    {
     "name": "stderr",
     "output_type": "stream",
     "text": [
      "/users/1/tianx/DA/CoDSA/Real examples/Anomaly detection/ae_detector.py:85: UserWarning: To copy construct from a tensor, it is recommended to use sourceTensor.clone().detach() or sourceTensor.clone().detach().requires_grad_(True), rather than torch.tensor(sourceTensor).\n",
      "  X = torch.tensor(X_train, dtype=torch.float32, device=self.device)\n"
     ]
    },
    {
     "name": "stdout",
     "output_type": "stream",
     "text": [
      "Epoch 3/20  Loss: 0.050620\n",
      "Epoch 4/20  Loss: 0.043401\n",
      "Epoch 5/20  Loss: 0.041891\n",
      "Epoch 6/20  Loss: 0.040987\n",
      "Epoch 7/20  Loss: 0.039833\n",
      "Epoch 8/20  Loss: 0.038143\n",
      "Epoch 9/20  Loss: 0.036029\n",
      "Epoch 10/20  Loss: 0.033775\n",
      "Epoch 11/20  Loss: 0.031551\n",
      "Epoch 12/20  Loss: 0.029937\n",
      "Epoch 13/20  Loss: 0.028504\n",
      "Epoch 14/20  Loss: 0.027096\n",
      "Epoch 15/20  Loss: 0.025740\n",
      "Epoch 16/20  Loss: 0.024601\n",
      "Epoch 17/20  Loss: 0.023700\n",
      "Epoch 18/20  Loss: 0.022937\n",
      "Epoch 19/20  Loss: 0.022218\n",
      "Epoch 20/20  Loss: 0.021528\n",
      "Epoch 1/20  Loss: 0.219916\n",
      "Epoch 2/20  Loss: 0.210695\n",
      "Epoch 3/20  Loss: 0.182299\n",
      "Epoch 4/20  Loss: 0.129482\n",
      "Epoch 5/20  Loss: 0.085934\n",
      "Epoch 6/20  Loss: 0.069278\n",
      "Epoch 7/20  Loss: 0.064321\n",
      "Epoch 8/20  Loss: 0.062216\n",
      "Epoch 9/20  Loss: 0.060976\n",
      "Epoch 10/20  Loss: 0.060131\n",
      "Epoch 11/20  Loss: 0.059317\n",
      "Epoch 12/20  Loss: 0.058359\n",
      "Epoch 13/20  Loss: 0.057229\n",
      "Epoch 14/20  Loss: 0.056037\n",
      "Epoch 15/20  Loss: 0.054899\n",
      "Epoch 16/20  Loss: 0.053747\n",
      "Epoch 17/20  Loss: 0.052495\n",
      "Epoch 18/20  Loss: 0.051178\n",
      "Epoch 19/20  Loss: 0.049860\n",
      "Epoch 20/20  Loss: 0.048721\n"
     ]
    },
    {
     "name": "stderr",
     "output_type": "stream",
     "text": [
      "/users/1/tianx/DA/CoDSA/Real examples/Anomaly detection/ae_detector.py:85: UserWarning: To copy construct from a tensor, it is recommended to use sourceTensor.clone().detach() or sourceTensor.clone().detach().requires_grad_(True), rather than torch.tensor(sourceTensor).\n",
      "  X = torch.tensor(X_train, dtype=torch.float32, device=self.device)\n"
     ]
    },
    {
     "name": "stdout",
     "output_type": "stream",
     "text": [
      "Epoch 1/20  Loss: 0.165951\n",
      "Epoch 2/20  Loss: 0.126074\n",
      "Epoch 3/20  Loss: 0.076881\n",
      "Epoch 4/20  Loss: 0.054505\n",
      "Epoch 5/20  Loss: 0.047481\n",
      "Epoch 6/20  Loss: 0.045553\n",
      "Epoch 7/20  Loss: 0.044656\n",
      "Epoch 8/20  Loss: 0.044008\n",
      "Epoch 9/20  Loss: 0.043346\n",
      "Epoch 10/20  Loss: 0.042490\n",
      "Epoch 11/20  Loss: 0.041338\n",
      "Epoch 12/20  Loss: 0.039989\n",
      "Epoch 13/20  Loss: 0.038642\n",
      "Epoch 14/20  Loss: 0.037331\n",
      "Epoch 15/20  Loss: 0.035905\n",
      "Epoch 16/20  Loss: 0.034248\n",
      "Epoch 17/20  Loss: 0.032626\n",
      "Epoch 18/20  Loss: 0.031348\n",
      "Epoch 19/20  Loss: 0.030291\n",
      "Epoch 20/20  Loss: 0.029318\n",
      "Epoch 1/20  Loss: 0.152014\n"
     ]
    },
    {
     "name": "stderr",
     "output_type": "stream",
     "text": [
      "/users/1/tianx/DA/CoDSA/Real examples/Anomaly detection/ae_detector.py:85: UserWarning: To copy construct from a tensor, it is recommended to use sourceTensor.clone().detach() or sourceTensor.clone().detach().requires_grad_(True), rather than torch.tensor(sourceTensor).\n",
      "  X = torch.tensor(X_train, dtype=torch.float32, device=self.device)\n"
     ]
    },
    {
     "name": "stdout",
     "output_type": "stream",
     "text": [
      "Epoch 2/20  Loss: 0.085425\n",
      "Epoch 3/20  Loss: 0.050709\n",
      "Epoch 4/20  Loss: 0.043464\n",
      "Epoch 5/20  Loss: 0.041947\n",
      "Epoch 6/20  Loss: 0.041081\n",
      "Epoch 7/20  Loss: 0.040002\n",
      "Epoch 8/20  Loss: 0.038363\n",
      "Epoch 9/20  Loss: 0.036289\n",
      "Epoch 10/20  Loss: 0.034107\n",
      "Epoch 11/20  Loss: 0.031843\n",
      "Epoch 12/20  Loss: 0.030171\n",
      "Epoch 13/20  Loss: 0.028828\n",
      "Epoch 14/20  Loss: 0.027507\n",
      "Epoch 15/20  Loss: 0.026251\n",
      "Epoch 16/20  Loss: 0.025114\n",
      "Epoch 17/20  Loss: 0.024133\n",
      "Epoch 18/20  Loss: 0.023299\n",
      "Epoch 19/20  Loss: 0.022566\n",
      "Epoch 20/20  Loss: 0.021885\n",
      "Epoch 1/20  Loss: 0.219883\n",
      "Epoch 2/20  Loss: 0.210620\n",
      "Epoch 3/20  Loss: 0.182171\n",
      "Epoch 4/20  Loss: 0.129289\n",
      "Epoch 5/20  Loss: 0.085733\n",
      "Epoch 6/20  Loss: 0.069247\n",
      "Epoch 7/20  Loss: 0.064338\n",
      "Epoch 8/20  Loss: 0.062235\n",
      "Epoch 9/20  Loss: 0.060972\n",
      "Epoch 10/20  Loss: 0.060113\n",
      "Epoch 11/20  Loss: 0.059253\n",
      "Epoch 12/20  Loss: 0.058230\n",
      "Epoch 13/20  Loss: 0.057017\n",
      "Epoch 14/20  Loss: 0.055653\n",
      "Epoch 15/20  Loss: 0.054274\n",
      "Epoch 16/20  Loss: 0.052851\n",
      "Epoch 17/20  Loss: 0.051400\n",
      "Epoch 18/20  Loss: 0.050072\n",
      "Epoch 19/20  Loss: 0.048980\n",
      "Epoch 20/20  Loss: 0.048102\n",
      "Epoch 1/20  Loss: 0.165947\n"
     ]
    },
    {
     "name": "stderr",
     "output_type": "stream",
     "text": [
      "/users/1/tianx/DA/CoDSA/Real examples/Anomaly detection/ae_detector.py:85: UserWarning: To copy construct from a tensor, it is recommended to use sourceTensor.clone().detach() or sourceTensor.clone().detach().requires_grad_(True), rather than torch.tensor(sourceTensor).\n",
      "  X = torch.tensor(X_train, dtype=torch.float32, device=self.device)\n"
     ]
    },
    {
     "name": "stdout",
     "output_type": "stream",
     "text": [
      "Epoch 2/20  Loss: 0.126273\n",
      "Epoch 3/20  Loss: 0.077561\n",
      "Epoch 4/20  Loss: 0.055054\n",
      "Epoch 5/20  Loss: 0.047707\n",
      "Epoch 6/20  Loss: 0.045666\n",
      "Epoch 7/20  Loss: 0.044703\n",
      "Epoch 8/20  Loss: 0.044030\n",
      "Epoch 9/20  Loss: 0.043363\n",
      "Epoch 10/20  Loss: 0.042460\n",
      "Epoch 11/20  Loss: 0.041260\n",
      "Epoch 12/20  Loss: 0.039830\n",
      "Epoch 13/20  Loss: 0.038411\n",
      "Epoch 14/20  Loss: 0.036997\n",
      "Epoch 15/20  Loss: 0.035410\n",
      "Epoch 16/20  Loss: 0.033691\n",
      "Epoch 17/20  Loss: 0.032170\n",
      "Epoch 18/20  Loss: 0.030936\n",
      "Epoch 19/20  Loss: 0.029838\n",
      "Epoch 20/20  Loss: 0.028793\n",
      "Epoch 1/20  Loss: 0.152018\n",
      "Epoch 2/20  Loss: 0.085709\n"
     ]
    },
    {
     "name": "stderr",
     "output_type": "stream",
     "text": [
      "/users/1/tianx/DA/CoDSA/Real examples/Anomaly detection/ae_detector.py:85: UserWarning: To copy construct from a tensor, it is recommended to use sourceTensor.clone().detach() or sourceTensor.clone().detach().requires_grad_(True), rather than torch.tensor(sourceTensor).\n",
      "  X = torch.tensor(X_train, dtype=torch.float32, device=self.device)\n"
     ]
    },
    {
     "name": "stdout",
     "output_type": "stream",
     "text": [
      "Epoch 3/20  Loss: 0.051022\n",
      "Epoch 4/20  Loss: 0.043518\n",
      "Epoch 5/20  Loss: 0.041963\n",
      "Epoch 6/20  Loss: 0.040980\n",
      "Epoch 7/20  Loss: 0.039669\n",
      "Epoch 8/20  Loss: 0.037748\n",
      "Epoch 9/20  Loss: 0.035565\n",
      "Epoch 10/20  Loss: 0.033298\n",
      "Epoch 11/20  Loss: 0.031427\n",
      "Epoch 12/20  Loss: 0.030107\n",
      "Epoch 13/20  Loss: 0.028882\n",
      "Epoch 14/20  Loss: 0.027544\n",
      "Epoch 15/20  Loss: 0.026143\n",
      "Epoch 16/20  Loss: 0.024846\n",
      "Epoch 17/20  Loss: 0.023756\n",
      "Epoch 18/20  Loss: 0.022872\n",
      "Epoch 19/20  Loss: 0.022115\n",
      "Epoch 20/20  Loss: 0.021457\n"
     ]
    }
   ],
   "source": [
    "import numpy as np\n",
    "import torch\n",
    "\n",
    "set_seed(42)\n",
    "res=[]\n",
    "# Set the random seed for reproducibility\n",
    "for j in range(10):\n",
    "    np.random.seed(j)\n",
    "    all_results=[]\n",
    "    # --- Randomly select 150 \"normal\" samples from class-3 datasets ---\n",
    "    idx_mnist3 = np.random.choice(len(mnist_3), 150, replace=False)\n",
    "    idx_usps3   = np.random.choice(len(usps_3),   150, replace=False)\n",
    "\n",
    "    # Compute the remaining indices for training\n",
    "    train_idx_mnist3 = np.setdiff1d(np.arange(len(mnist_3)), idx_mnist3)\n",
    "    train_idx_usps3   = np.setdiff1d(np.arange(len(usps_3)),   idx_usps3)\n",
    "\n",
    "    # Build the normal training set\n",
    "    X_train_normal = np.concatenate((\n",
    "        mnist_3[train_idx_mnist3],\n",
    "        usps_3[  train_idx_usps3]\n",
    "    ), axis=0)\n",
    "    s_train = np.array(\n",
    "        [1] * len(train_idx_mnist3) +\n",
    "        [0] * len(train_idx_usps3)\n",
    "    )\n",
    "\n",
    "    # --- Build the \"normal\" portion of the test set (150 each) ---\n",
    "    X_normal = np.concatenate((\n",
    "        mnist_3[idx_mnist3],\n",
    "        usps_3[  idx_usps3]\n",
    "    ), axis=0)\n",
    "\n",
    "    # --- Randomly select 150 \"anomaly\" samples from class-5 datasets ---\n",
    "    idx_mnist5 = np.random.choice(len(mnist_5), 150, replace=False)\n",
    "    idx_usps5   = np.random.choice(len(usps_5),   150, replace=False)\n",
    "\n",
    "    X_anomaly = np.concatenate((\n",
    "        mnist_5[idx_mnist5],\n",
    "        usps_5[  idx_usps5]\n",
    "    ), axis=0)\n",
    "\n",
    "    # --- Combine to form the full test set ---\n",
    "    X_test  = np.concatenate((X_normal, X_anomaly), axis=0)\n",
    "    s_test  = np.array(\n",
    "        [1] * len(idx_mnist3) + [0] * len(idx_usps3) +\n",
    "        [1] * len(idx_mnist5) + [0] * len(idx_usps5)\n",
    "    )\n",
    "\n",
    "    # Labels: 0 = normal, 1 = anomaly\n",
    "    y_normal  = np.zeros(len(X_normal))\n",
    "    y_anomaly = np.ones(len(X_anomaly))\n",
    "    y_test    = np.concatenate((y_normal, y_anomaly), axis=0)\n",
    "    \n",
    "    nr=X_train_normal.shape[0]\n",
    "    s_tr=s_train#[y_train==0]\n",
    "    pk=np.array([sum(s_tr==1)/nr,sum(s_tr==0)/nr])\n",
    "    q_k=np.array([0.5,0.5])\n",
    "\n",
    "\n",
    "    detector = AutoencoderAnomalyDetector(seed=0)\n",
    "    detector.fit(X_train_normal)\n",
    "    y_pred = detector.predict(X_test)\n",
    "    overall_metrics = detector.evaluate(X_test, y_test)\n",
    "    groups = ['USPS', 'MNIST']\n",
    "    fairness_metrics = {}\n",
    "    for group_value, group_name in zip([0, 1], groups):\n",
    "        idx = (s_test == group_value)\n",
    "        fairness_metrics[group_name] =detector.evaluate(X_test[idx], y_test[idx])\n",
    "    results = {\n",
    "        'Metric': ['AUC', 'Precision', 'Recall', 'F1', 'TP', 'FP', 'TN', 'FN'],\n",
    "        'Overall': [overall_metrics[m] for m in ['AUC', 'Precision', 'Recall', 'F1', 'TP', 'FP', 'TN', 'FN']],\n",
    "        'USPS': [fairness_metrics['USPS'][m] for m in ['AUC', 'Precision', 'Recall', 'F1', 'TP', 'FP', 'TN', 'FN']],\n",
    "        'MNIST': [fairness_metrics['MNIST'][m] for m in ['AUC', 'Precision', 'Recall', 'F1', 'TP', 'FP', 'TN', 'FN']],\n",
    "    }\n",
    "\n",
    "    df_origin = pd.DataFrame(results)\n",
    "\n",
    "    all_results.append(df_origin)\n",
    "    \n",
    "    for sample_size in [6000,12000]:\n",
    "        ratio = nr*(q_k-pk)/(sample_size)+ q_k\n",
    "        X_all= torch.tensor(np.vstack([X_train_normal,\n",
    "                                       mnist_g[:int(sample_size*ratio[0]), np.newaxis, :, :]/255,\n",
    "                                       usps_g[:int(sample_size*ratio[1]), np.newaxis, :, :]/255])).float()\n",
    "\n",
    "        detector = AutoencoderAnomalyDetector(seed=0)\n",
    "        detector.fit(X_all)\n",
    "        y_pred = detector.predict(X_test)\n",
    "        overall_metrics = detector.evaluate(X_test, y_test)\n",
    "        groups = ['USPS', 'MNIST']\n",
    "        fairness_metrics = {}\n",
    "        for group_value, group_name in zip([0, 1], groups):\n",
    "            idx = (s_test == group_value)\n",
    "            fairness_metrics[group_name] =detector.evaluate(X_test[idx], y_test[idx])\n",
    "        results = {\n",
    "            'Metric': ['AUC', 'Precision', 'Recall', 'F1', 'TP', 'FP', 'TN', 'FN'],\n",
    "            'Overall': [overall_metrics[m] for m in ['AUC', 'Precision', 'Recall', 'F1', 'TP', 'FP', 'TN', 'FN']],\n",
    "            'USPS': [fairness_metrics['USPS'][m] for m in ['AUC', 'Precision', 'Recall', 'F1', 'TP', 'FP', 'TN', 'FN']],\n",
    "            'MNIST': [fairness_metrics['MNIST'][m] for m in ['AUC', 'Precision', 'Recall', 'F1', 'TP', 'FP', 'TN', 'FN']],\n",
    "        }\n",
    "        \n",
    "        df_metrics = pd.DataFrame(results)\n",
    "\n",
    "        all_results.append(df_metrics)\n",
    "        \n",
    "    res.append(all_results)\n",
    "    "
   ]
  },
  {
   "cell_type": "code",
   "execution_count": 93,
   "id": "34c13b3d",
   "metadata": {},
   "outputs": [],
   "source": [
    "res_np=np.array([[res[x][y].iloc[0,1:].tolist() for y in range(3)] for x in range(10)])"
   ]
  },
  {
   "cell_type": "markdown",
   "id": "f4e0300e",
   "metadata": {},
   "source": [
    "### Summary statistics for Table 3"
   ]
  },
  {
   "cell_type": "code",
   "execution_count": 95,
   "id": "31d50144",
   "metadata": {},
   "outputs": [
    {
     "data": {
      "text/plain": [
       "array([[0.82663667, 0.83212444, 0.85461778],\n",
       "       [0.88604778, 0.89485778, 0.89493333],\n",
       "       [0.90141444, 0.89567556, 0.93204   ]])"
      ]
     },
     "execution_count": 95,
     "metadata": {},
     "output_type": "execute_result"
    }
   ],
   "source": [
    "np.mean(res_np[:,:,:],0)"
   ]
  },
  {
   "cell_type": "code",
   "execution_count": 96,
   "id": "3d0745c7",
   "metadata": {},
   "outputs": [
    {
     "data": {
      "text/plain": [
       "array([[0.0179769 , 0.0208599 , 0.02859189],\n",
       "       [0.01419213, 0.01588405, 0.02195932],\n",
       "       [0.01117417, 0.01497703, 0.01761798]])"
      ]
     },
     "execution_count": 96,
     "metadata": {},
     "output_type": "execute_result"
    }
   ],
   "source": [
    "np.std(res_np[:,:,:],0)"
   ]
  }
 ],
 "metadata": {
  "kernelspec": {
   "display_name": "Python3.8.3",
   "language": "python",
   "name": "python3.8.3"
  },
  "language_info": {
   "codemirror_mode": {
    "name": "ipython",
    "version": 3
   },
   "file_extension": ".py",
   "mimetype": "text/x-python",
   "name": "python",
   "nbconvert_exporter": "python",
   "pygments_lexer": "ipython3",
   "version": "3.8.3"
  }
 },
 "nbformat": 4,
 "nbformat_minor": 5
}
